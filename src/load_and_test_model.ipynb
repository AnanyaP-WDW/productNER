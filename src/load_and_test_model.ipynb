{
 "metadata": {
  "language_info": {
   "codemirror_mode": {
    "name": "ipython",
    "version": 3
   },
   "file_extension": ".py",
   "mimetype": "text/x-python",
   "name": "python",
   "nbconvert_exporter": "python",
   "pygments_lexer": "ipython3",
   "version": "3.8.5"
  },
  "orig_nbformat": 2,
  "kernelspec": {
   "name": "python385jvsc74a57bd0938846d3a607f3f244609a92d954017c578d0118fd62ed0861ca010603b27814",
   "display_name": "Python 3.8.5 64-bit ('base': conda)"
  },
  "metadata": {
   "interpreter": {
    "hash": "938846d3a607f3f244609a92d954017c578d0118fd62ed0861ca010603b27814"
   }
  }
 },
 "nbformat": 4,
 "nbformat_minor": 2,
 "cells": [
  {
   "cell_type": "code",
   "execution_count": 3,
   "metadata": {},
   "outputs": [
    {
     "output_type": "execute_result",
     "data": {
      "text/plain": [
       "['tok2vec', 'tagger', 'parser', 'ner', 'attribute_ruler', 'lemmatizer']"
      ]
     },
     "metadata": {},
     "execution_count": 3
    }
   ],
   "source": [
    "import spacy\n",
    "nlp = spacy.load(\"en_core_web_sm\")\n",
    "nlp.pipe_names"
   ]
  },
  {
   "cell_type": "code",
   "execution_count": 66,
   "metadata": {},
   "outputs": [
    {
     "output_type": "stream",
     "name": "stdout",
     "text": [
      "36\n42\n"
     ]
    }
   ],
   "source": [
    "# doc = nlp(\"[sales cafe] hazelnut incense coffee beans( 200g 500g 1kg )\")\n",
    "# for ent in doc.ents:\n",
    "#     print(ent.text, ent.start_char, ent.end_char, ent.label_)\n",
    "# (cantata (smash)hazelnut incense coffee beans 600g/mocha blend ,{\"entities\":[(0,43,'PRODUCT'),(45,48,'WEIGHT')]})\n",
    "#     (cantata (smash)hazelnut incense coffee beans 600g/mocha blend ,{\"entities\":[(0,43,'PRODUCT_NAME'),(45,48,'WEIGHT')]})\n",
    "#     (cantata (smash)hazelnut incense coffee beans 600g/mocha blend ,{\"entities\":[(0,43,'PRODUCT'),(45,48,'WEIGHT')]})\n",
    "#     (cantata (smash)hazelnut incense coffee beans 600g/mocha blend ,{\"entities\":[(0,43,'PRODUCT'),(45,48,'WEIGHT')]})\n",
    "#     (cantata (smash)hazelnut incense coffee beans 600g/mocha blend ,{\"entities\":[(0,43,'PRODUCT'),(45,48,'WEIGHT')]})\n",
    "#     (cantata (smash)hazelnut incense coffee beans 600g/mocha blend ,{\"entities\":[(0,43,'PRODUCT'),(45,48,'WEIGHT')]})\n",
    "#     (cantata (smash)hazelnut incense coffee beans 600g/mocha blend ,{\"entities\":[(0,43,'PRODUCT'),(45,48,'WEIGHT')]})\n",
    "#     (cantata (smash)hazelnut incense coffee beans 600g/mocha blend ,{\"entities\":[(0,43,'PRODUCT'),(45,48,'WEIGHT')]})\n",
    "# train = [\n",
    "#     (\"cantata (smash)hazelnut incense coffee beans 600g/mocha blend\",{\"entities\":[(0,43,'PRODUCT'),(45,48,'WEIGHT')]}),\n",
    "#     (\"Costa costa signature blend coffee bean 200G x 2\",{\"entities\":[(0,38,'PRODUCT'),(40,43,'WEIGHT'),(45,47,'QUANTITY')]}),\n",
    "#     (\"starbucks veranda blend light smash coffee 567g 2 pack\",{\"entities\":[(0,41,'PRODUCT'),(43,46,'WEIGHT'),(48,53,'QUANTITY')]}),\n",
    "#     (\"trader joe organic french roast 13oz(369g) x2 pack\",{\"entities\":[(0,44,'PRODUCT'),(32,41,'WEIGHT'),(43,49,'QUANTITY')]}),\n",
    "#     (\"[blackvins]mandeling, indonesia coffee beans after ordering roasting 200g\",{\"entities\":[(0,43,'PRODUCT'),(69,72,'WEIGHT')]}),\n",
    "#     (\"[117557]ethiopia special blend(500g/fine grinding/mr bin)\",{\"entities\":[(8,29,'PRODUCT'),(31,34,'WEIGHT')]}),\n",
    "#     (\"[keopimandeulgi] kenya aa TOP 500g\",{\"entities\":[(0,28,'PRODUCT'),(30,33,'WEIGHT')]}),\n",
    "#     (\"rabbah intensos dark roast coffee beans powder 340g 3 piece\",{\"entities\":[(0,45,'PRODUCT'),(47,50,'WEIGHT'),(52,58,'QUANTITY')]})\n",
    "# ]\n",
    "string_1 = \"sanjibyeolsaengdu santos, brazil NY2 1Bag(60kg)\"\n",
    "print(len(\"arabica hazelnut incense ground beans\") -1)\n",
    "print(string_1.find('60kg'))"
   ]
  },
  {
   "cell_type": "code",
   "execution_count": 152,
   "metadata": {},
   "outputs": [],
   "source": [
    "#ner = nlp.get_pipe(\"ner\")\n",
    "train = [\n",
    "    (\"cantata (smash)hazelnut incense coffee beans 600g/mocha blend\",{\"entities\":[(0,43,'PRODUCT_NAME'),(45,48,'WEIGHT')]}),\n",
    "    (\"Costa costa signature blend coffee bean 200G x 2\",{\"entities\":[(0,38,'PRODUCT_NAME'),(40,43,'WEIGHT'),(45,47,'QUANTITY')]}),\n",
    "    (\"starbucks veranda blend light smash coffee 567g 2 pack\",{\"entities\":[(0,41,'PRODUCT_NAME'),(43,46,'WEIGHT'),(48,53,'QUANTITY')]}),\n",
    "    (\"trader joe organic french roast 13oz(369g) x2 pack\",{\"entities\":[(0,30,'PRODUCT_NAME'),(32,35,'WEIGHT'),(37,40,'WEIGHT'),(43,49,'QUANTITY')]}),\n",
    "    (\"[blackvins]mandeling, indonesia coffee beans after ordering roasting 200g\",{\"entities\":[(0,43,'PRODUCT_NAME'),(69,72,'WEIGHT')]}),\n",
    "    (\"[117557]ethiopia special blend(500g/fine grinding/mr bin)\",{\"entities\":[(8,29,'PRODUCT_NAME'),(31,34,'WEIGHT')]}),\n",
    "    (\"[keopimandeulgi] kenya aa TOP 500g\",{\"entities\":[(0,28,'PRODUCT_NAME'),(30,33,'WEIGHT')]}),\n",
    "    (\"rabbah intensos dark roast coffee beans powder 340g 3 piece\",{\"entities\":[(0,45,'PRODUCT_NAME'),(47,50,'WEIGHT'),(52,58,'QUANTITY')]}),\n",
    "    (\"pauls ground coffee beans 865g coffee powder drip coffee\",{\"entities\":[(0,24,'PRODUCT_NAME'),(26,29,'WEIGHT')]}),\n",
    "    (\"pauls breakfast blend mild light roast ground coffee 720g\",{\"entities\":[(0,51,'PRODUCT_NAME'),(53,56,'WEIGHT')]}),\n",
    "    (\"indonesia sumatra mandeling 100g coffee beans roasting on the day\",{\"entities\":[(0,26,'PRODUCT_NAME'),(28,31,'WEIGHT')]}),\n",
    "    (\"[sales cafe] hazelnut incense coffee beans(200g/500g/1kg)\",{\"entities\":[(0,41,'PRODUCT_NAME'),(43,46,'WEIGHT'),(48,51,'WEIGHT'),(53,55,'WEIGHT')]}),\n",
    "    (\"brazil serado coffee beans 1kg roasting on the day\",{\"entities\":[(0,25,'PRODUCT_NAME'),(27,29,'WEIGHT')]}),\n",
    "    (\"sanjibyeolsaengdu santos, brazil NY2 1Bag(60kg)\",{\"entities\":[(0,35,'PRODUCT_NAME'),(42,45,'WEIGHT'),(37,40,'QUANTITY')]}),\n",
    "    (\"ilya classico holvin coffee medium roast 250g 6 pack\",{\"entities\":[(0,39,'PRODUCT_NAME'),(41,44,'WEIGHT'),(46,51,'QUANTITY')]}),\n",
    "    (\"The Coffee Fool teugjeon coffee fool english topi 12oz\",{\"entities\":[(0,35,'PRODUCT_NAME'),(50,53,'WEIGHT')]}),\n",
    "    (\"antigua guatemala 1kg guatemala coffee beans roseutingweondukeopi coffee beans coffee bean\",{\"entities\":[(0,16,'PRODUCT'),(18,20,'WEIGHT')]}),\n",
    "    (\"brazil seahawo 1kg /bean(holvin)\",{\"entities\":[(0,13,'PRODUCT_NAME'),(15,17,'WEIGHT')]}),\n",
    "    (\"Tim Hortons hazelnut light geuraindeukeopi 300g 2 pack\",{\"entities\":[(0,41,'PRODUCT_NAME'),(43,46,'WEIGHT')]}),\n",
    "    (\"constantine 500g 100% arabica hazelnut incense ground beans coffee\",{\"entities\":[(22,36,'PRODUCT_NAME'),(12,15,'WEIGHT')]})\n",
    "]"
   ]
  },
  {
   "cell_type": "code",
   "execution_count": 153,
   "metadata": {},
   "outputs": [],
   "source": [
    "ner = nlp.get_pipe(\"ner\")"
   ]
  },
  {
   "cell_type": "code",
   "execution_count": 67,
   "metadata": {},
   "outputs": [],
   "source": [
    "# for _, annotations in train:\n",
    "#     for ent in annotations.get(\"entities\"):\n",
    "#         ner.add_label(ent[2])"
   ]
  },
  {
   "cell_type": "code",
   "execution_count": 154,
   "metadata": {},
   "outputs": [],
   "source": [
    "disable_pipes = [pipe for pipe in nlp.pipe_names if pipe != 'ner']"
   ]
  },
  {
   "cell_type": "code",
   "execution_count": 54,
   "metadata": {},
   "outputs": [
    {
     "output_type": "error",
     "ename": "TypeError",
     "evalue": "Argument 'string' has incorrect type (expected str, got list)",
     "traceback": [
      "\u001b[0;31m---------------------------------------------------------------------------\u001b[0m",
      "\u001b[0;31mTypeError\u001b[0m                                 Traceback (most recent call last)",
      "\u001b[0;32m<ipython-input-54-1aeba181e103>\u001b[0m in \u001b[0;36m<module>\u001b[0;34m\u001b[0m\n\u001b[1;32m     17\u001b[0m             \u001b[0;31m# text,annotation = zip(*batch)\u001b[0m\u001b[0;34m\u001b[0m\u001b[0;34m\u001b[0m\u001b[0;34m\u001b[0m\u001b[0m\n\u001b[1;32m     18\u001b[0m             nlp.update(\n\u001b[0;32m---> 19\u001b[0;31m                         \u001b[0mnlp\u001b[0m\u001b[0;34m(\u001b[0m\u001b[0mbatch\u001b[0m\u001b[0;34m)\u001b[0m\u001b[0;34m,\u001b[0m\u001b[0;34m\u001b[0m\u001b[0;34m\u001b[0m\u001b[0m\n\u001b[0m\u001b[1;32m     20\u001b[0m                         \u001b[0mdrop\u001b[0m \u001b[0;34m=\u001b[0m \u001b[0;36m0.3\u001b[0m\u001b[0;34m,\u001b[0m\u001b[0;34m\u001b[0m\u001b[0;34m\u001b[0m\u001b[0m\n\u001b[1;32m     21\u001b[0m                         \u001b[0mlosses\u001b[0m\u001b[0;34m=\u001b[0m\u001b[0mlosses\u001b[0m\u001b[0;34m,\u001b[0m\u001b[0;34m\u001b[0m\u001b[0;34m\u001b[0m\u001b[0m\n",
      "\u001b[0;32m~/miniconda3/lib/python3.8/site-packages/spacy/language.py\u001b[0m in \u001b[0;36m__call__\u001b[0;34m(self, text, disable, component_cfg)\u001b[0m\n\u001b[1;32m    981\u001b[0m         \u001b[0mDOCS\u001b[0m\u001b[0;34m:\u001b[0m \u001b[0mhttps\u001b[0m\u001b[0;34m:\u001b[0m\u001b[0;34m//\u001b[0m\u001b[0mspacy\u001b[0m\u001b[0;34m.\u001b[0m\u001b[0mio\u001b[0m\u001b[0;34m/\u001b[0m\u001b[0mapi\u001b[0m\u001b[0;34m/\u001b[0m\u001b[0mlanguage\u001b[0m\u001b[0;31m#call\u001b[0m\u001b[0;34m\u001b[0m\u001b[0;34m\u001b[0m\u001b[0m\n\u001b[1;32m    982\u001b[0m         \"\"\"\n\u001b[0;32m--> 983\u001b[0;31m         \u001b[0mdoc\u001b[0m \u001b[0;34m=\u001b[0m \u001b[0mself\u001b[0m\u001b[0;34m.\u001b[0m\u001b[0mmake_doc\u001b[0m\u001b[0;34m(\u001b[0m\u001b[0mtext\u001b[0m\u001b[0;34m)\u001b[0m\u001b[0;34m\u001b[0m\u001b[0;34m\u001b[0m\u001b[0m\n\u001b[0m\u001b[1;32m    984\u001b[0m         \u001b[0;32mif\u001b[0m \u001b[0mcomponent_cfg\u001b[0m \u001b[0;32mis\u001b[0m \u001b[0;32mNone\u001b[0m\u001b[0;34m:\u001b[0m\u001b[0;34m\u001b[0m\u001b[0;34m\u001b[0m\u001b[0m\n\u001b[1;32m    985\u001b[0m             \u001b[0mcomponent_cfg\u001b[0m \u001b[0;34m=\u001b[0m \u001b[0;34m{\u001b[0m\u001b[0;34m}\u001b[0m\u001b[0;34m\u001b[0m\u001b[0;34m\u001b[0m\u001b[0m\n",
      "\u001b[0;32m~/miniconda3/lib/python3.8/site-packages/spacy/language.py\u001b[0m in \u001b[0;36mmake_doc\u001b[0;34m(self, text)\u001b[0m\n\u001b[1;32m   1063\u001b[0m                 \u001b[0mErrors\u001b[0m\u001b[0;34m.\u001b[0m\u001b[0mE088\u001b[0m\u001b[0;34m.\u001b[0m\u001b[0mformat\u001b[0m\u001b[0;34m(\u001b[0m\u001b[0mlength\u001b[0m\u001b[0;34m=\u001b[0m\u001b[0mlen\u001b[0m\u001b[0;34m(\u001b[0m\u001b[0mtext\u001b[0m\u001b[0;34m)\u001b[0m\u001b[0;34m,\u001b[0m \u001b[0mmax_length\u001b[0m\u001b[0;34m=\u001b[0m\u001b[0mself\u001b[0m\u001b[0;34m.\u001b[0m\u001b[0mmax_length\u001b[0m\u001b[0;34m)\u001b[0m\u001b[0;34m\u001b[0m\u001b[0;34m\u001b[0m\u001b[0m\n\u001b[1;32m   1064\u001b[0m             )\n\u001b[0;32m-> 1065\u001b[0;31m         \u001b[0;32mreturn\u001b[0m \u001b[0mself\u001b[0m\u001b[0;34m.\u001b[0m\u001b[0mtokenizer\u001b[0m\u001b[0;34m(\u001b[0m\u001b[0mtext\u001b[0m\u001b[0;34m)\u001b[0m\u001b[0;34m\u001b[0m\u001b[0;34m\u001b[0m\u001b[0m\n\u001b[0m\u001b[1;32m   1066\u001b[0m \u001b[0;34m\u001b[0m\u001b[0m\n\u001b[1;32m   1067\u001b[0m     def update(\n",
      "\u001b[0;31mTypeError\u001b[0m: Argument 'string' has incorrect type (expected str, got list)"
     ]
    }
   ],
   "source": [
    "import random\n",
    "from spacy.util import minibatch, compounding\n",
    "from pathlib import Path\n",
    "\n",
    "# with nlp.disable_pipes(*disable_pipes):\n",
    "#     # Transfer learning\n",
    "#     # for training from scratch nlp.empty()\n",
    "#     optamizer = nlp.resume_training()\n",
    "\n",
    "#     for iteration in range(100):\n",
    "\n",
    "#         random.shuffle(train)\n",
    "#         losses = {}\n",
    "\n",
    "#         batches = minibatch(train, size=compounding(1.0,4.0,1.001))\n",
    "#         for batch in batches:\n",
    "#             # text,annotation = zip(*batch)\n",
    "#             nlp.update(\n",
    "#                         ,\n",
    "#                         drop = 0.3,\n",
    "#                         losses=losses,\n",
    "#                         sgd=optamizer\n",
    "#             )\n",
    "#             print(f\"Losses {losses}\")"
   ]
  },
  {
   "cell_type": "code",
   "execution_count": 155,
   "metadata": {
    "tags": []
   },
   "outputs": [
    {
     "output_type": "stream",
     "name": "stdout",
     "text": [
      "__________Iteration number0\n",
      "/home/ananya/miniconda3/lib/python3.8/site-packages/spacy/training/iob_utils.py:139: UserWarning: [W030] Some entities could not be aligned in the text \"trader joe organic french roast 13oz(369g) x2 pack\" with entities \"[(0, 30, 'PRODUCT_NAME'), (32, 35, 'WEIGHT'), (37,...\". Use `spacy.training.offsets_to_biluo_tags(nlp.make_doc(text), entities)` to check the alignment. Misaligned entities ('-') will be ignored during training.\n",
      "  warnings.warn(\n",
      "/home/ananya/miniconda3/lib/python3.8/site-packages/spacy/training/iob_utils.py:139: UserWarning: [W030] Some entities could not be aligned in the text \"[sales cafe] hazelnut incense coffee beans(200g/50...\" with entities \"[(0, 41, 'PRODUCT_NAME'), (43, 46, 'WEIGHT'), (48,...\". Use `spacy.training.offsets_to_biluo_tags(nlp.make_doc(text), entities)` to check the alignment. Misaligned entities ('-') will be ignored during training.\n",
      "  warnings.warn(\n",
      "Losses {'ner': 4.934509312232767e-09}\n",
      "__________Iteration number1\n",
      "Losses {'ner': 2.842828802937926e-08}\n",
      "__________Iteration number2\n",
      "Losses {'ner': 7.163623406124224e-06}\n",
      "__________Iteration number3\n",
      "Losses {'ner': 3.602412772412182e-09}\n",
      "__________Iteration number4\n",
      "Losses {'ner': 1.2919084121867876e-06}\n"
     ]
    }
   ],
   "source": [
    "import random\n",
    "from spacy.util import minibatch, compounding\n",
    "from pathlib import Path\n",
    "from spacy.training import Example\n",
    "\n",
    "disable_pipes = [pipe for pipe in nlp.pipe_names if pipe != 'ner']\n",
    "with nlp.disable_pipes(*disable_pipes):\n",
    "    optimizer = nlp.resume_training()\n",
    "    #optimizer = nlp.begin_training()\n",
    "    #optimizer = nlp.create_optimizer()\n",
    "    #optimizer = nlp.initialize()\n",
    "    for itn in range(5):\n",
    "        print(f\"__________Iteration number{itn}\")\n",
    "        losses = {}\n",
    "        # random.shuffle(train)\n",
    "        batches = minibatch(train, size=compounding(1.0,4.0,1.001))\n",
    "        for batch in batches:\n",
    "            for raw_text, entity_offsets in batch:\n",
    "                doc = nlp.make_doc(raw_text)\n",
    "                example = Example.from_dict(doc,entity_offsets)\n",
    "                nlp.update([example], sgd=optimizer, losses=losses, drop=0.3)\n",
    "        print(f\"Losses {losses}\")\n",
    "    nlp.to_disk(r\"/home/ananya/Desktop/python/Data_works/OpenCV_OCR/src/NER_experiment/custom_trained_models\")"
   ]
  },
  {
   "cell_type": "code",
   "execution_count": 156,
   "metadata": {},
   "outputs": [
    {
     "output_type": "stream",
     "name": "stdout",
     "text": [
      "Entities []\nEntities [('200', 'WEIGHT')]\nEntities [('567', 'WEIGHT')]\nEntities [('13oz(369g', 'WEIGHT')]\nEntities [('200', 'WEIGHT')]\nEntities []\nEntities [('500', 'WEIGHT')]\nEntities [('340', 'WEIGHT')]\nEntities [('865', 'WEIGHT')]\nEntities [('720', 'WEIGHT')]\nEntities [('100', 'WEIGHT')]\nEntities []\nEntities []\nEntities []\nEntities [('250', 'WEIGHT')]\nEntities []\nEntities []\nEntities []\nEntities [('Tim Hortons', 'PERSON'), ('300', 'WEIGHT')]\nEntities [('500', 'WEIGHT')]\n"
     ]
    }
   ],
   "source": [
    "for text,_ in train:\n",
    "    doc = nlp(text)\n",
    "    print('Entities',[(ent.text, ent.label_) for ent in doc.ents])"
   ]
  },
  {
   "cell_type": "code",
   "execution_count": 171,
   "metadata": {},
   "outputs": [
    {
     "output_type": "display_data",
     "data": {
      "text/plain": "<IPython.core.display.HTML object>",
      "text/html": "<span class=\"tex2jax_ignore\"><div class=\"entities\" style=\"line-height: 2.5; direction: ltr\">cantata (smash)hazelnut incense coffee beans 600g/mocha blend</div></span>"
     },
     "metadata": {}
    },
    {
     "output_type": "stream",
     "name": "stdout",
     "text": [
      "200 40 43 WEIGHT\n"
     ]
    },
    {
     "output_type": "display_data",
     "data": {
      "text/plain": "<IPython.core.display.HTML object>",
      "text/html": "<span class=\"tex2jax_ignore\"><div class=\"entities\" style=\"line-height: 2.5; direction: ltr\">Costa costa signature blend coffee bean \n<mark class=\"entity\" style=\"background: #ddd; padding: 0.45em 0.6em; margin: 0 0.25em; line-height: 1; border-radius: 0.35em;\">\n    200\n    <span style=\"font-size: 0.8em; font-weight: bold; line-height: 1; border-radius: 0.35em; vertical-align: middle; margin-left: 0.5rem\">WEIGHT</span>\n</mark>\nG x 2</div></span>"
     },
     "metadata": {}
    },
    {
     "output_type": "stream",
     "name": "stdout",
     "text": [
      "567 43 46 WEIGHT\n"
     ]
    },
    {
     "output_type": "display_data",
     "data": {
      "text/plain": "<IPython.core.display.HTML object>",
      "text/html": "<span class=\"tex2jax_ignore\"><div class=\"entities\" style=\"line-height: 2.5; direction: ltr\">starbucks veranda blend light smash coffee \n<mark class=\"entity\" style=\"background: #ddd; padding: 0.45em 0.6em; margin: 0 0.25em; line-height: 1; border-radius: 0.35em;\">\n    567\n    <span style=\"font-size: 0.8em; font-weight: bold; line-height: 1; border-radius: 0.35em; vertical-align: middle; margin-left: 0.5rem\">WEIGHT</span>\n</mark>\ng 2 pack</div></span>"
     },
     "metadata": {}
    },
    {
     "output_type": "stream",
     "name": "stdout",
     "text": [
      "13oz(369g 32 41 WEIGHT\n"
     ]
    },
    {
     "output_type": "display_data",
     "data": {
      "text/plain": "<IPython.core.display.HTML object>",
      "text/html": "<span class=\"tex2jax_ignore\"><div class=\"entities\" style=\"line-height: 2.5; direction: ltr\">trader joe organic french roast \n<mark class=\"entity\" style=\"background: #ddd; padding: 0.45em 0.6em; margin: 0 0.25em; line-height: 1; border-radius: 0.35em;\">\n    13oz(369g\n    <span style=\"font-size: 0.8em; font-weight: bold; line-height: 1; border-radius: 0.35em; vertical-align: middle; margin-left: 0.5rem\">WEIGHT</span>\n</mark>\n) x2 pack</div></span>"
     },
     "metadata": {}
    },
    {
     "output_type": "stream",
     "name": "stdout",
     "text": [
      "200 69 72 WEIGHT\n"
     ]
    },
    {
     "output_type": "display_data",
     "data": {
      "text/plain": "<IPython.core.display.HTML object>",
      "text/html": "<span class=\"tex2jax_ignore\"><div class=\"entities\" style=\"line-height: 2.5; direction: ltr\">[blackvins]mandeling, indonesia coffee beans after ordering roasting \n<mark class=\"entity\" style=\"background: #ddd; padding: 0.45em 0.6em; margin: 0 0.25em; line-height: 1; border-radius: 0.35em;\">\n    200\n    <span style=\"font-size: 0.8em; font-weight: bold; line-height: 1; border-radius: 0.35em; vertical-align: middle; margin-left: 0.5rem\">WEIGHT</span>\n</mark>\ng</div></span>"
     },
     "metadata": {}
    },
    {
     "output_type": "display_data",
     "data": {
      "text/plain": "<IPython.core.display.HTML object>",
      "text/html": "<span class=\"tex2jax_ignore\"><div class=\"entities\" style=\"line-height: 2.5; direction: ltr\">for restaurant prima vending machine cohabitation 1kg coffee prim business</div></span>"
     },
     "metadata": {}
    },
    {
     "output_type": "display_data",
     "data": {
      "text/plain": "<IPython.core.display.HTML object>",
      "text/html": "<span class=\"tex2jax_ignore\"><div class=\"entities\" style=\"line-height: 2.5; direction: ltr\">[117557]ethiopia special blend(500g/fine grinding/mr bin)</div></span>"
     },
     "metadata": {}
    },
    {
     "output_type": "stream",
     "name": "stdout",
     "text": [
      "500 30 33 WEIGHT\n"
     ]
    },
    {
     "output_type": "display_data",
     "data": {
      "text/plain": "<IPython.core.display.HTML object>",
      "text/html": "<span class=\"tex2jax_ignore\"><div class=\"entities\" style=\"line-height: 2.5; direction: ltr\">[keopimandeulgi] kenya aa TOP \n<mark class=\"entity\" style=\"background: #ddd; padding: 0.45em 0.6em; margin: 0 0.25em; line-height: 1; border-radius: 0.35em;\">\n    500\n    <span style=\"font-size: 0.8em; font-weight: bold; line-height: 1; border-radius: 0.35em; vertical-align: middle; margin-left: 0.5rem\">WEIGHT</span>\n</mark>\ng</div></span>"
     },
     "metadata": {}
    },
    {
     "output_type": "stream",
     "name": "stdout",
     "text": [
      "340 47 50 WEIGHT\n"
     ]
    },
    {
     "output_type": "display_data",
     "data": {
      "text/plain": "<IPython.core.display.HTML object>",
      "text/html": "<span class=\"tex2jax_ignore\"><div class=\"entities\" style=\"line-height: 2.5; direction: ltr\">rabbah intensos dark roast coffee beans powder \n<mark class=\"entity\" style=\"background: #ddd; padding: 0.45em 0.6em; margin: 0 0.25em; line-height: 1; border-radius: 0.35em;\">\n    340\n    <span style=\"font-size: 0.8em; font-weight: bold; line-height: 1; border-radius: 0.35em; vertical-align: middle; margin-left: 0.5rem\">WEIGHT</span>\n</mark>\ng 3 piece</div></span>"
     },
     "metadata": {}
    },
    {
     "output_type": "stream",
     "name": "stdout",
     "text": [
      "865 26 29 WEIGHT\n"
     ]
    },
    {
     "output_type": "display_data",
     "data": {
      "text/plain": "<IPython.core.display.HTML object>",
      "text/html": "<span class=\"tex2jax_ignore\"><div class=\"entities\" style=\"line-height: 2.5; direction: ltr\">pauls ground coffee beans \n<mark class=\"entity\" style=\"background: #ddd; padding: 0.45em 0.6em; margin: 0 0.25em; line-height: 1; border-radius: 0.35em;\">\n    865\n    <span style=\"font-size: 0.8em; font-weight: bold; line-height: 1; border-radius: 0.35em; vertical-align: middle; margin-left: 0.5rem\">WEIGHT</span>\n</mark>\ng coffee powder drip coffee</div></span>"
     },
     "metadata": {}
    },
    {
     "output_type": "stream",
     "name": "stdout",
     "text": [
      "720 53 56 WEIGHT\n"
     ]
    },
    {
     "output_type": "display_data",
     "data": {
      "text/plain": "<IPython.core.display.HTML object>",
      "text/html": "<span class=\"tex2jax_ignore\"><div class=\"entities\" style=\"line-height: 2.5; direction: ltr\">pauls breakfast blend mild light roast ground coffee \n<mark class=\"entity\" style=\"background: #ddd; padding: 0.45em 0.6em; margin: 0 0.25em; line-height: 1; border-radius: 0.35em;\">\n    720\n    <span style=\"font-size: 0.8em; font-weight: bold; line-height: 1; border-radius: 0.35em; vertical-align: middle; margin-left: 0.5rem\">WEIGHT</span>\n</mark>\ng</div></span>"
     },
     "metadata": {}
    },
    {
     "output_type": "stream",
     "name": "stdout",
     "text": [
      "100 28 31 WEIGHT\n"
     ]
    },
    {
     "output_type": "display_data",
     "data": {
      "text/plain": "<IPython.core.display.HTML object>",
      "text/html": "<span class=\"tex2jax_ignore\"><div class=\"entities\" style=\"line-height: 2.5; direction: ltr\">indonesia sumatra mandeling \n<mark class=\"entity\" style=\"background: #ddd; padding: 0.45em 0.6em; margin: 0 0.25em; line-height: 1; border-radius: 0.35em;\">\n    100\n    <span style=\"font-size: 0.8em; font-weight: bold; line-height: 1; border-radius: 0.35em; vertical-align: middle; margin-left: 0.5rem\">WEIGHT</span>\n</mark>\ng coffee beans roasting on the day</div></span>"
     },
     "metadata": {}
    },
    {
     "output_type": "display_data",
     "data": {
      "text/plain": "<IPython.core.display.HTML object>",
      "text/html": "<span class=\"tex2jax_ignore\"><div class=\"entities\" style=\"line-height: 2.5; direction: ltr\">[sales cafe] hazelnut incense coffee beans(200g/500g/1kg)</div></span>"
     },
     "metadata": {}
    },
    {
     "output_type": "display_data",
     "data": {
      "text/plain": "<IPython.core.display.HTML object>",
      "text/html": "<span class=\"tex2jax_ignore\"><div class=\"entities\" style=\"line-height: 2.5; direction: ltr\">espresso bold dark 1kg(SRBC140FC0500A02)coffee beans</div></span>"
     },
     "metadata": {}
    },
    {
     "output_type": "display_data",
     "data": {
      "text/plain": "<IPython.core.display.HTML object>",
      "text/html": "<span class=\"tex2jax_ignore\"><div class=\"entities\" style=\"line-height: 2.5; direction: ltr\">el salvador fancy 1kg(SROC120CI0500A02) gobgebunswae/gajeongyongeseupeureso/mocha pot(M)</div></span>"
     },
     "metadata": {}
    },
    {
     "output_type": "stream",
     "name": "stdout",
     "text": [
      "coffee/227 38 48 WEIGHT\n"
     ]
    },
    {
     "output_type": "display_data",
     "data": {
      "text/plain": "<IPython.core.display.HTML object>",
      "text/html": "<span class=\"tex2jax_ignore\"><div class=\"entities\" style=\"line-height: 2.5; direction: ltr\">[coffee pilgrims] guatemala shb beans \n<mark class=\"entity\" style=\"background: #ddd; padding: 0.45em 0.6em; margin: 0 0.25em; line-height: 1; border-radius: 0.35em;\">\n    coffee/227\n    <span style=\"font-size: 0.8em; font-weight: bold; line-height: 1; border-radius: 0.35em; vertical-align: middle; margin-left: 0.5rem\">WEIGHT</span>\n</mark>\ng 1 rod(8oz 1 rod) /single origin</div></span>"
     },
     "metadata": {}
    },
    {
     "output_type": "display_data",
     "data": {
      "text/plain": "<IPython.core.display.HTML object>",
      "text/html": "<span class=\"tex2jax_ignore\"><div class=\"entities\" style=\"line-height: 2.5; direction: ltr\">brazil serado coffee beans 1kg roasting on the day</div></span>"
     },
     "metadata": {}
    },
    {
     "output_type": "display_data",
     "data": {
      "text/plain": "<IPython.core.display.HTML object>",
      "text/html": "<span class=\"tex2jax_ignore\"><div class=\"entities\" style=\"line-height: 2.5; direction: ltr\">sanjibyeolsaengdu santos, brazil NY2 1Bag(60kg)</div></span>"
     },
     "metadata": {}
    }
   ],
   "source": [
    "from spacy import displacy\n",
    "\n",
    "input_text = input_text.splitlines()\n",
    "for text_ in input_text:\n",
    "    doc = nlp(text_)\n",
    "    for ent in doc.ents:\n",
    "        print(ent.text, ent.start_char, ent.end_char, ent.label_)\n",
    "    displacy.render(nlp(doc.text), style = \"ent\", jupyter=True)"
   ]
  },
  {
   "cell_type": "code",
   "execution_count": 27,
   "metadata": {},
   "outputs": [],
   "source": [
    "input_string = \"\"\"cantata (smash)hazelnut incense coffee beans 600g/mocha blend\n",
    "Costa costa signature blend coffee bean 200G x 2\n",
    "starbucks veranda blend light smash coffee 567g 2 pack\n",
    "trader joe organic french roast 13oz(369g) x2 pack\n",
    "[blackvins]mandeling, indonesia coffee beans after ordering roasting 200g\n",
    "for restaurant prima vending machine cohabitation 1kg coffee prim business\n",
    "[117557]ethiopia special blend(500g/fine grinding/mr bin)\n",
    "[keopimandeulgi] kenya aa TOP 500g\n",
    "rabbah intensos dark roast coffee beans powder 340g 3 piece\n",
    "pauls ground coffee beans 865g coffee powder drip coffee\n",
    "pauls breakfast blend mild light roast ground coffee 720g\n",
    "indonesia sumatra mandeling 100g coffee beans roasting on the day\n",
    "[sales cafe] hazelnut incense coffee beans(200g/500g/1kg)\n",
    "espresso bold dark 1kg(SRBC140FC0500A02)coffee beans\n",
    "el salvador fancy 1kg(SROC120CI0500A02) gobgebunswae/gajeongyongeseupeureso/mocha pot(M)\n",
    "[coffee pilgrims] guatemala shb beans coffee/227g 1 rod(8oz 1 rod) /single origin\n",
    "brazil serado coffee beans 1kg roasting on the day\n",
    "sanjibyeolsaengdu santos, brazil NY2 1bag(60kg)\n",
    "coffee xyz 300g 1 bag\n",
    "\"\"\"\n",
    "# input_string = \"\"\"\n",
    "# pqr baby powder/solution 1liter 3 can\n",
    "# \"\"\""
   ]
  },
  {
   "cell_type": "code",
   "execution_count": 162,
   "metadata": {},
   "outputs": [
    {
     "output_type": "stream",
     "name": "stdout",
     "text": [
      "__________Iteration number0\n",
      "Losses {'tok2vec': 0.0, 'tagger': 0.0, 'parser': 0.0, 'ner': 8.646175168497731e-10}\n",
      "__________Iteration number1\n",
      "Losses {'tok2vec': 0.0, 'tagger': 0.0, 'parser': 0.0, 'ner': 2.0086158096836462e-09}\n",
      "__________Iteration number2\n",
      "Losses {'tok2vec': 0.0, 'tagger': 0.0, 'parser': 0.0, 'ner': 3.2842431915564536e-08}\n",
      "__________Iteration number3\n",
      "Losses {'tok2vec': 0.0, 'tagger': 0.0, 'parser': 0.0, 'ner': 5.0617112260623424e-17}\n",
      "__________Iteration number4\n",
      "Losses {'tok2vec': 0.0, 'tagger': 0.0, 'parser': 0.0, 'ner': 3.9063947694101296e-10}\n"
     ]
    }
   ],
   "source": [
    "import random\n",
    "from spacy.util import minibatch, compounding\n",
    "from pathlib import Path\n",
    "from spacy.training import Example\n",
    "\n",
    "disable_pipes = [pipe for pipe in nlp.pipe_names if pipe != 'ner']\n",
    "losses = {}\n",
    "nlp_new= spacy.blank(\"en\")\n",
    "nlp_new.add_pipe(\"ner\", last=True)\n",
    "ner = nlp_new.get_pipe(\"ner\")\n",
    "for _, annotations in train:\n",
    "    for ent in annotations.get(\"entities\"):\n",
    "        ner.add_label(ent[2])\n",
    "    #optimizer = nlp.resume_training()\n",
    "#optimizer = nlp.create_optimizer()\n",
    "optimizer = nlp_new.begin_training()\n",
    "for itn in range(5):\n",
    "        print(f\"__________Iteration number{itn}\")\n",
    "        losses = {}\n",
    "        # random.shuffle(train)\n",
    "        batches = minibatch(train, size=compounding(1.0,4.0,1.001))\n",
    "        for batch in batches:\n",
    "            for raw_text, entity_offsets in batch:\n",
    "                doc = nlp.make_doc(raw_text)\n",
    "                example = Example.from_dict(doc,entity_offsets)\n",
    "                nlp.update([example], sgd=optimizer, losses=losses, drop=0.3)\n",
    "        print(f\"Losses {losses}\")\n",
    "    #nlp.to_disk(r\"/home/ananya/Desktop/python/Data_works/OpenCV_OCR/src/NER_experiment/custom_trained_models\")"
   ]
  },
  {
   "cell_type": "code",
   "execution_count": 28,
   "metadata": {},
   "outputs": [
    {
     "output_type": "stream",
     "name": "stdout",
     "text": [
      "600 44 47 value_of_measure\ng 47 48 unit_of_measure\n"
     ]
    },
    {
     "output_type": "display_data",
     "data": {
      "text/plain": "<IPython.core.display.HTML object>",
      "text/html": "<span class=\"tex2jax_ignore\"><div class=\"entities\" style=\"line-height: 2.5; direction: ltr\">cantata smash hazelnut incense coffee beans \n<mark class=\"entity\" style=\"background: #ddd; padding: 0.45em 0.6em; margin: 0 0.25em; line-height: 1; border-radius: 0.35em;\">\n    600\n    <span style=\"font-size: 0.8em; font-weight: bold; line-height: 1; border-radius: 0.35em; vertical-align: middle; margin-left: 0.5rem\">value_of_measure</span>\n</mark>\n\n<mark class=\"entity\" style=\"background: #ddd; padding: 0.45em 0.6em; margin: 0 0.25em; line-height: 1; border-radius: 0.35em;\">\n    g\n    <span style=\"font-size: 0.8em; font-weight: bold; line-height: 1; border-radius: 0.35em; vertical-align: middle; margin-left: 0.5rem\">unit_of_measure</span>\n</mark>\n mocha blend</div></span>"
     },
     "metadata": {}
    },
    {
     "output_type": "stream",
     "name": "stdout",
     "text": [
      "200 40 43 value_of_measure\nG 43 44 unit_of_measure\n2 47 48 quantity_integer\n"
     ]
    },
    {
     "output_type": "display_data",
     "data": {
      "text/plain": "<IPython.core.display.HTML object>",
      "text/html": "<span class=\"tex2jax_ignore\"><div class=\"entities\" style=\"line-height: 2.5; direction: ltr\">Costa costa signature blend coffee bean \n<mark class=\"entity\" style=\"background: #ddd; padding: 0.45em 0.6em; margin: 0 0.25em; line-height: 1; border-radius: 0.35em;\">\n    200\n    <span style=\"font-size: 0.8em; font-weight: bold; line-height: 1; border-radius: 0.35em; vertical-align: middle; margin-left: 0.5rem\">value_of_measure</span>\n</mark>\n\n<mark class=\"entity\" style=\"background: #ddd; padding: 0.45em 0.6em; margin: 0 0.25em; line-height: 1; border-radius: 0.35em;\">\n    G\n    <span style=\"font-size: 0.8em; font-weight: bold; line-height: 1; border-radius: 0.35em; vertical-align: middle; margin-left: 0.5rem\">unit_of_measure</span>\n</mark>\n x \n<mark class=\"entity\" style=\"background: #ddd; padding: 0.45em 0.6em; margin: 0 0.25em; line-height: 1; border-radius: 0.35em;\">\n    2\n    <span style=\"font-size: 0.8em; font-weight: bold; line-height: 1; border-radius: 0.35em; vertical-align: middle; margin-left: 0.5rem\">quantity_integer</span>\n</mark>\n</div></span>"
     },
     "metadata": {}
    },
    {
     "output_type": "stream",
     "name": "stdout",
     "text": [
      "567 43 46 value_of_measure\ng 46 47 unit_of_measure\n2 48 49 quantity_integer\n"
     ]
    },
    {
     "output_type": "display_data",
     "data": {
      "text/plain": "<IPython.core.display.HTML object>",
      "text/html": "<span class=\"tex2jax_ignore\"><div class=\"entities\" style=\"line-height: 2.5; direction: ltr\">starbucks veranda blend light smash coffee \n<mark class=\"entity\" style=\"background: #ddd; padding: 0.45em 0.6em; margin: 0 0.25em; line-height: 1; border-radius: 0.35em;\">\n    567\n    <span style=\"font-size: 0.8em; font-weight: bold; line-height: 1; border-radius: 0.35em; vertical-align: middle; margin-left: 0.5rem\">value_of_measure</span>\n</mark>\n\n<mark class=\"entity\" style=\"background: #ddd; padding: 0.45em 0.6em; margin: 0 0.25em; line-height: 1; border-radius: 0.35em;\">\n    g\n    <span style=\"font-size: 0.8em; font-weight: bold; line-height: 1; border-radius: 0.35em; vertical-align: middle; margin-left: 0.5rem\">unit_of_measure</span>\n</mark>\n \n<mark class=\"entity\" style=\"background: #ddd; padding: 0.45em 0.6em; margin: 0 0.25em; line-height: 1; border-radius: 0.35em;\">\n    2\n    <span style=\"font-size: 0.8em; font-weight: bold; line-height: 1; border-radius: 0.35em; vertical-align: middle; margin-left: 0.5rem\">quantity_integer</span>\n</mark>\n pack</div></span>"
     },
     "metadata": {}
    },
    {
     "output_type": "stream",
     "name": "stdout",
     "text": [
      "13 32 34 value_of_measure\noz 34 36 unit_of_measure\n369 37 40 value_of_measure\ng 40 41 unit_of_measure\nx2 42 44 quantity_integer\n"
     ]
    },
    {
     "output_type": "display_data",
     "data": {
      "text/plain": "<IPython.core.display.HTML object>",
      "text/html": "<span class=\"tex2jax_ignore\"><div class=\"entities\" style=\"line-height: 2.5; direction: ltr\">trader joe organic french roast \n<mark class=\"entity\" style=\"background: #ddd; padding: 0.45em 0.6em; margin: 0 0.25em; line-height: 1; border-radius: 0.35em;\">\n    13\n    <span style=\"font-size: 0.8em; font-weight: bold; line-height: 1; border-radius: 0.35em; vertical-align: middle; margin-left: 0.5rem\">value_of_measure</span>\n</mark>\n\n<mark class=\"entity\" style=\"background: #ddd; padding: 0.45em 0.6em; margin: 0 0.25em; line-height: 1; border-radius: 0.35em;\">\n    oz\n    <span style=\"font-size: 0.8em; font-weight: bold; line-height: 1; border-radius: 0.35em; vertical-align: middle; margin-left: 0.5rem\">unit_of_measure</span>\n</mark>\n \n<mark class=\"entity\" style=\"background: #ddd; padding: 0.45em 0.6em; margin: 0 0.25em; line-height: 1; border-radius: 0.35em;\">\n    369\n    <span style=\"font-size: 0.8em; font-weight: bold; line-height: 1; border-radius: 0.35em; vertical-align: middle; margin-left: 0.5rem\">value_of_measure</span>\n</mark>\n\n<mark class=\"entity\" style=\"background: #ddd; padding: 0.45em 0.6em; margin: 0 0.25em; line-height: 1; border-radius: 0.35em;\">\n    g\n    <span style=\"font-size: 0.8em; font-weight: bold; line-height: 1; border-radius: 0.35em; vertical-align: middle; margin-left: 0.5rem\">unit_of_measure</span>\n</mark>\n \n<mark class=\"entity\" style=\"background: #ddd; padding: 0.45em 0.6em; margin: 0 0.25em; line-height: 1; border-radius: 0.35em;\">\n    x2\n    <span style=\"font-size: 0.8em; font-weight: bold; line-height: 1; border-radius: 0.35em; vertical-align: middle; margin-left: 0.5rem\">quantity_integer</span>\n</mark>\n pack</div></span>"
     },
     "metadata": {}
    },
    {
     "output_type": "stream",
     "name": "stdout",
     "text": [
      "200 69 72 value_of_measure\ng 72 73 unit_of_measure\n"
     ]
    },
    {
     "output_type": "display_data",
     "data": {
      "text/plain": "<IPython.core.display.HTML object>",
      "text/html": "<span class=\"tex2jax_ignore\"><div class=\"entities\" style=\"line-height: 2.5; direction: ltr\">[blackvins]mandeling, indonesia coffee beans after ordering roasting \n<mark class=\"entity\" style=\"background: #ddd; padding: 0.45em 0.6em; margin: 0 0.25em; line-height: 1; border-radius: 0.35em;\">\n    200\n    <span style=\"font-size: 0.8em; font-weight: bold; line-height: 1; border-radius: 0.35em; vertical-align: middle; margin-left: 0.5rem\">value_of_measure</span>\n</mark>\n\n<mark class=\"entity\" style=\"background: #ddd; padding: 0.45em 0.6em; margin: 0 0.25em; line-height: 1; border-radius: 0.35em;\">\n    g\n    <span style=\"font-size: 0.8em; font-weight: bold; line-height: 1; border-radius: 0.35em; vertical-align: middle; margin-left: 0.5rem\">unit_of_measure</span>\n</mark>\n</div></span>"
     },
     "metadata": {}
    },
    {
     "output_type": "stream",
     "name": "stdout",
     "text": [
      "1 50 51 value_of_measure\nkg 51 53 unit_of_measure\n"
     ]
    },
    {
     "output_type": "display_data",
     "data": {
      "text/plain": "<IPython.core.display.HTML object>",
      "text/html": "<span class=\"tex2jax_ignore\"><div class=\"entities\" style=\"line-height: 2.5; direction: ltr\">for restaurant prima vending machine cohabitation \n<mark class=\"entity\" style=\"background: #ddd; padding: 0.45em 0.6em; margin: 0 0.25em; line-height: 1; border-radius: 0.35em;\">\n    1\n    <span style=\"font-size: 0.8em; font-weight: bold; line-height: 1; border-radius: 0.35em; vertical-align: middle; margin-left: 0.5rem\">value_of_measure</span>\n</mark>\n\n<mark class=\"entity\" style=\"background: #ddd; padding: 0.45em 0.6em; margin: 0 0.25em; line-height: 1; border-radius: 0.35em;\">\n    kg\n    <span style=\"font-size: 0.8em; font-weight: bold; line-height: 1; border-radius: 0.35em; vertical-align: middle; margin-left: 0.5rem\">unit_of_measure</span>\n</mark>\n coffee prim business</div></span>"
     },
     "metadata": {}
    },
    {
     "output_type": "stream",
     "name": "stdout",
     "text": [
      "500 31 34 value_of_measure\ng 34 35 unit_of_measure\n"
     ]
    },
    {
     "output_type": "display_data",
     "data": {
      "text/plain": "<IPython.core.display.HTML object>",
      "text/html": "<span class=\"tex2jax_ignore\"><div class=\"entities\" style=\"line-height: 2.5; direction: ltr\">[117557]ethiopia special blend \n<mark class=\"entity\" style=\"background: #ddd; padding: 0.45em 0.6em; margin: 0 0.25em; line-height: 1; border-radius: 0.35em;\">\n    500\n    <span style=\"font-size: 0.8em; font-weight: bold; line-height: 1; border-radius: 0.35em; vertical-align: middle; margin-left: 0.5rem\">value_of_measure</span>\n</mark>\n\n<mark class=\"entity\" style=\"background: #ddd; padding: 0.45em 0.6em; margin: 0 0.25em; line-height: 1; border-radius: 0.35em;\">\n    g\n    <span style=\"font-size: 0.8em; font-weight: bold; line-height: 1; border-radius: 0.35em; vertical-align: middle; margin-left: 0.5rem\">unit_of_measure</span>\n</mark>\n fine grinding mr bin</div></span>"
     },
     "metadata": {}
    },
    {
     "output_type": "stream",
     "name": "stdout",
     "text": [
      "500 30 33 value_of_measure\ng 33 34 unit_of_measure\n"
     ]
    },
    {
     "output_type": "display_data",
     "data": {
      "text/plain": "<IPython.core.display.HTML object>",
      "text/html": "<span class=\"tex2jax_ignore\"><div class=\"entities\" style=\"line-height: 2.5; direction: ltr\">[keopimandeulgi] kenya aa TOP \n<mark class=\"entity\" style=\"background: #ddd; padding: 0.45em 0.6em; margin: 0 0.25em; line-height: 1; border-radius: 0.35em;\">\n    500\n    <span style=\"font-size: 0.8em; font-weight: bold; line-height: 1; border-radius: 0.35em; vertical-align: middle; margin-left: 0.5rem\">value_of_measure</span>\n</mark>\n\n<mark class=\"entity\" style=\"background: #ddd; padding: 0.45em 0.6em; margin: 0 0.25em; line-height: 1; border-radius: 0.35em;\">\n    g\n    <span style=\"font-size: 0.8em; font-weight: bold; line-height: 1; border-radius: 0.35em; vertical-align: middle; margin-left: 0.5rem\">unit_of_measure</span>\n</mark>\n</div></span>"
     },
     "metadata": {}
    },
    {
     "output_type": "stream",
     "name": "stdout",
     "text": [
      "340 47 50 value_of_measure\ng 50 51 unit_of_measure\n3 52 53 quantity_integer\n"
     ]
    },
    {
     "output_type": "display_data",
     "data": {
      "text/plain": "<IPython.core.display.HTML object>",
      "text/html": "<span class=\"tex2jax_ignore\"><div class=\"entities\" style=\"line-height: 2.5; direction: ltr\">rabbah intensos dark roast coffee beans powder \n<mark class=\"entity\" style=\"background: #ddd; padding: 0.45em 0.6em; margin: 0 0.25em; line-height: 1; border-radius: 0.35em;\">\n    340\n    <span style=\"font-size: 0.8em; font-weight: bold; line-height: 1; border-radius: 0.35em; vertical-align: middle; margin-left: 0.5rem\">value_of_measure</span>\n</mark>\n\n<mark class=\"entity\" style=\"background: #ddd; padding: 0.45em 0.6em; margin: 0 0.25em; line-height: 1; border-radius: 0.35em;\">\n    g\n    <span style=\"font-size: 0.8em; font-weight: bold; line-height: 1; border-radius: 0.35em; vertical-align: middle; margin-left: 0.5rem\">unit_of_measure</span>\n</mark>\n \n<mark class=\"entity\" style=\"background: #ddd; padding: 0.45em 0.6em; margin: 0 0.25em; line-height: 1; border-radius: 0.35em;\">\n    3\n    <span style=\"font-size: 0.8em; font-weight: bold; line-height: 1; border-radius: 0.35em; vertical-align: middle; margin-left: 0.5rem\">quantity_integer</span>\n</mark>\n piece</div></span>"
     },
     "metadata": {}
    },
    {
     "output_type": "stream",
     "name": "stdout",
     "text": [
      "865 26 29 value_of_measure\ng 29 30 unit_of_measure\n"
     ]
    },
    {
     "output_type": "display_data",
     "data": {
      "text/plain": "<IPython.core.display.HTML object>",
      "text/html": "<span class=\"tex2jax_ignore\"><div class=\"entities\" style=\"line-height: 2.5; direction: ltr\">pauls ground coffee beans \n<mark class=\"entity\" style=\"background: #ddd; padding: 0.45em 0.6em; margin: 0 0.25em; line-height: 1; border-radius: 0.35em;\">\n    865\n    <span style=\"font-size: 0.8em; font-weight: bold; line-height: 1; border-radius: 0.35em; vertical-align: middle; margin-left: 0.5rem\">value_of_measure</span>\n</mark>\n\n<mark class=\"entity\" style=\"background: #ddd; padding: 0.45em 0.6em; margin: 0 0.25em; line-height: 1; border-radius: 0.35em;\">\n    g\n    <span style=\"font-size: 0.8em; font-weight: bold; line-height: 1; border-radius: 0.35em; vertical-align: middle; margin-left: 0.5rem\">unit_of_measure</span>\n</mark>\n coffee powder drip coffee</div></span>"
     },
     "metadata": {}
    },
    {
     "output_type": "stream",
     "name": "stdout",
     "text": [
      "720 53 56 value_of_measure\ng 56 57 unit_of_measure\n"
     ]
    },
    {
     "output_type": "display_data",
     "data": {
      "text/plain": "<IPython.core.display.HTML object>",
      "text/html": "<span class=\"tex2jax_ignore\"><div class=\"entities\" style=\"line-height: 2.5; direction: ltr\">pauls breakfast blend mild light roast ground coffee \n<mark class=\"entity\" style=\"background: #ddd; padding: 0.45em 0.6em; margin: 0 0.25em; line-height: 1; border-radius: 0.35em;\">\n    720\n    <span style=\"font-size: 0.8em; font-weight: bold; line-height: 1; border-radius: 0.35em; vertical-align: middle; margin-left: 0.5rem\">value_of_measure</span>\n</mark>\n\n<mark class=\"entity\" style=\"background: #ddd; padding: 0.45em 0.6em; margin: 0 0.25em; line-height: 1; border-radius: 0.35em;\">\n    g\n    <span style=\"font-size: 0.8em; font-weight: bold; line-height: 1; border-radius: 0.35em; vertical-align: middle; margin-left: 0.5rem\">unit_of_measure</span>\n</mark>\n</div></span>"
     },
     "metadata": {}
    },
    {
     "output_type": "stream",
     "name": "stdout",
     "text": [
      "100 28 31 value_of_measure\ng 31 32 unit_of_measure\n"
     ]
    },
    {
     "output_type": "display_data",
     "data": {
      "text/plain": "<IPython.core.display.HTML object>",
      "text/html": "<span class=\"tex2jax_ignore\"><div class=\"entities\" style=\"line-height: 2.5; direction: ltr\">indonesia sumatra mandeling \n<mark class=\"entity\" style=\"background: #ddd; padding: 0.45em 0.6em; margin: 0 0.25em; line-height: 1; border-radius: 0.35em;\">\n    100\n    <span style=\"font-size: 0.8em; font-weight: bold; line-height: 1; border-radius: 0.35em; vertical-align: middle; margin-left: 0.5rem\">value_of_measure</span>\n</mark>\n\n<mark class=\"entity\" style=\"background: #ddd; padding: 0.45em 0.6em; margin: 0 0.25em; line-height: 1; border-radius: 0.35em;\">\n    g\n    <span style=\"font-size: 0.8em; font-weight: bold; line-height: 1; border-radius: 0.35em; vertical-align: middle; margin-left: 0.5rem\">unit_of_measure</span>\n</mark>\n coffee beans roasting on the day</div></span>"
     },
     "metadata": {}
    },
    {
     "output_type": "stream",
     "name": "stdout",
     "text": [
      "200 43 46 value_of_measure\ng 46 47 unit_of_measure\n500 48 51 value_of_measure\ng 51 52 unit_of_measure\n1 53 54 value_of_measure\nkg 54 56 unit_of_measure\n"
     ]
    },
    {
     "output_type": "display_data",
     "data": {
      "text/plain": "<IPython.core.display.HTML object>",
      "text/html": "<span class=\"tex2jax_ignore\"><div class=\"entities\" style=\"line-height: 2.5; direction: ltr\">[sales cafe] hazelnut incense coffee beans \n<mark class=\"entity\" style=\"background: #ddd; padding: 0.45em 0.6em; margin: 0 0.25em; line-height: 1; border-radius: 0.35em;\">\n    200\n    <span style=\"font-size: 0.8em; font-weight: bold; line-height: 1; border-radius: 0.35em; vertical-align: middle; margin-left: 0.5rem\">value_of_measure</span>\n</mark>\n\n<mark class=\"entity\" style=\"background: #ddd; padding: 0.45em 0.6em; margin: 0 0.25em; line-height: 1; border-radius: 0.35em;\">\n    g\n    <span style=\"font-size: 0.8em; font-weight: bold; line-height: 1; border-radius: 0.35em; vertical-align: middle; margin-left: 0.5rem\">unit_of_measure</span>\n</mark>\n \n<mark class=\"entity\" style=\"background: #ddd; padding: 0.45em 0.6em; margin: 0 0.25em; line-height: 1; border-radius: 0.35em;\">\n    500\n    <span style=\"font-size: 0.8em; font-weight: bold; line-height: 1; border-radius: 0.35em; vertical-align: middle; margin-left: 0.5rem\">value_of_measure</span>\n</mark>\n\n<mark class=\"entity\" style=\"background: #ddd; padding: 0.45em 0.6em; margin: 0 0.25em; line-height: 1; border-radius: 0.35em;\">\n    g\n    <span style=\"font-size: 0.8em; font-weight: bold; line-height: 1; border-radius: 0.35em; vertical-align: middle; margin-left: 0.5rem\">unit_of_measure</span>\n</mark>\n \n<mark class=\"entity\" style=\"background: #ddd; padding: 0.45em 0.6em; margin: 0 0.25em; line-height: 1; border-radius: 0.35em;\">\n    1\n    <span style=\"font-size: 0.8em; font-weight: bold; line-height: 1; border-radius: 0.35em; vertical-align: middle; margin-left: 0.5rem\">value_of_measure</span>\n</mark>\n\n<mark class=\"entity\" style=\"background: #ddd; padding: 0.45em 0.6em; margin: 0 0.25em; line-height: 1; border-radius: 0.35em;\">\n    kg\n    <span style=\"font-size: 0.8em; font-weight: bold; line-height: 1; border-radius: 0.35em; vertical-align: middle; margin-left: 0.5rem\">unit_of_measure</span>\n</mark>\n</div></span>"
     },
     "metadata": {}
    },
    {
     "output_type": "stream",
     "name": "stdout",
     "text": [
      "1 19 20 value_of_measure\nkg 20 22 unit_of_measure\n"
     ]
    },
    {
     "output_type": "display_data",
     "data": {
      "text/plain": "<IPython.core.display.HTML object>",
      "text/html": "<span class=\"tex2jax_ignore\"><div class=\"entities\" style=\"line-height: 2.5; direction: ltr\">espresso bold dark \n<mark class=\"entity\" style=\"background: #ddd; padding: 0.45em 0.6em; margin: 0 0.25em; line-height: 1; border-radius: 0.35em;\">\n    1\n    <span style=\"font-size: 0.8em; font-weight: bold; line-height: 1; border-radius: 0.35em; vertical-align: middle; margin-left: 0.5rem\">value_of_measure</span>\n</mark>\n\n<mark class=\"entity\" style=\"background: #ddd; padding: 0.45em 0.6em; margin: 0 0.25em; line-height: 1; border-radius: 0.35em;\">\n    kg\n    <span style=\"font-size: 0.8em; font-weight: bold; line-height: 1; border-radius: 0.35em; vertical-align: middle; margin-left: 0.5rem\">unit_of_measure</span>\n</mark>\n SRBC140FC0500A02 coffee beans</div></span>"
     },
     "metadata": {}
    },
    {
     "output_type": "stream",
     "name": "stdout",
     "text": [
      "1 18 19 value_of_measure\nkg 19 21 unit_of_measure\n"
     ]
    },
    {
     "output_type": "display_data",
     "data": {
      "text/plain": "<IPython.core.display.HTML object>",
      "text/html": "<span class=\"tex2jax_ignore\"><div class=\"entities\" style=\"line-height: 2.5; direction: ltr\">el salvador fancy \n<mark class=\"entity\" style=\"background: #ddd; padding: 0.45em 0.6em; margin: 0 0.25em; line-height: 1; border-radius: 0.35em;\">\n    1\n    <span style=\"font-size: 0.8em; font-weight: bold; line-height: 1; border-radius: 0.35em; vertical-align: middle; margin-left: 0.5rem\">value_of_measure</span>\n</mark>\n\n<mark class=\"entity\" style=\"background: #ddd; padding: 0.45em 0.6em; margin: 0 0.25em; line-height: 1; border-radius: 0.35em;\">\n    kg\n    <span style=\"font-size: 0.8em; font-weight: bold; line-height: 1; border-radius: 0.35em; vertical-align: middle; margin-left: 0.5rem\">unit_of_measure</span>\n</mark>\n SROC120CI0500A02 gobgebunswae gajeongyongeseupeureso mocha pot M</div></span>"
     },
     "metadata": {}
    },
    {
     "output_type": "stream",
     "name": "stdout",
     "text": [
      "227 45 48 value_of_measure\ng 48 49 unit_of_measure\n8 56 57 value_of_measure\noz 57 59 unit_of_measure\n"
     ]
    },
    {
     "output_type": "display_data",
     "data": {
      "text/plain": "<IPython.core.display.HTML object>",
      "text/html": "<span class=\"tex2jax_ignore\"><div class=\"entities\" style=\"line-height: 2.5; direction: ltr\">[coffee pilgrims] guatemala shb beans coffee \n<mark class=\"entity\" style=\"background: #ddd; padding: 0.45em 0.6em; margin: 0 0.25em; line-height: 1; border-radius: 0.35em;\">\n    227\n    <span style=\"font-size: 0.8em; font-weight: bold; line-height: 1; border-radius: 0.35em; vertical-align: middle; margin-left: 0.5rem\">value_of_measure</span>\n</mark>\n\n<mark class=\"entity\" style=\"background: #ddd; padding: 0.45em 0.6em; margin: 0 0.25em; line-height: 1; border-radius: 0.35em;\">\n    g\n    <span style=\"font-size: 0.8em; font-weight: bold; line-height: 1; border-radius: 0.35em; vertical-align: middle; margin-left: 0.5rem\">unit_of_measure</span>\n</mark>\n 1 rod \n<mark class=\"entity\" style=\"background: #ddd; padding: 0.45em 0.6em; margin: 0 0.25em; line-height: 1; border-radius: 0.35em;\">\n    8\n    <span style=\"font-size: 0.8em; font-weight: bold; line-height: 1; border-radius: 0.35em; vertical-align: middle; margin-left: 0.5rem\">value_of_measure</span>\n</mark>\n\n<mark class=\"entity\" style=\"background: #ddd; padding: 0.45em 0.6em; margin: 0 0.25em; line-height: 1; border-radius: 0.35em;\">\n    oz\n    <span style=\"font-size: 0.8em; font-weight: bold; line-height: 1; border-radius: 0.35em; vertical-align: middle; margin-left: 0.5rem\">unit_of_measure</span>\n</mark>\n 1 rod single origin</div></span>"
     },
     "metadata": {}
    },
    {
     "output_type": "stream",
     "name": "stdout",
     "text": [
      "1 27 28 value_of_measure\nkg 28 30 unit_of_measure\n"
     ]
    },
    {
     "output_type": "display_data",
     "data": {
      "text/plain": "<IPython.core.display.HTML object>",
      "text/html": "<span class=\"tex2jax_ignore\"><div class=\"entities\" style=\"line-height: 2.5; direction: ltr\">brazil serado coffee beans \n<mark class=\"entity\" style=\"background: #ddd; padding: 0.45em 0.6em; margin: 0 0.25em; line-height: 1; border-radius: 0.35em;\">\n    1\n    <span style=\"font-size: 0.8em; font-weight: bold; line-height: 1; border-radius: 0.35em; vertical-align: middle; margin-left: 0.5rem\">value_of_measure</span>\n</mark>\n\n<mark class=\"entity\" style=\"background: #ddd; padding: 0.45em 0.6em; margin: 0 0.25em; line-height: 1; border-radius: 0.35em;\">\n    kg\n    <span style=\"font-size: 0.8em; font-weight: bold; line-height: 1; border-radius: 0.35em; vertical-align: middle; margin-left: 0.5rem\">unit_of_measure</span>\n</mark>\n roasting on the day</div></span>"
     },
     "metadata": {}
    },
    {
     "output_type": "stream",
     "name": "stdout",
     "text": [
      "60 42 44 value_of_measure\nkg 44 46 unit_of_measure\n"
     ]
    },
    {
     "output_type": "display_data",
     "data": {
      "text/plain": "<IPython.core.display.HTML object>",
      "text/html": "<span class=\"tex2jax_ignore\"><div class=\"entities\" style=\"line-height: 2.5; direction: ltr\">sanjibyeolsaengdu santos, brazil NY2 1Bag \n<mark class=\"entity\" style=\"background: #ddd; padding: 0.45em 0.6em; margin: 0 0.25em; line-height: 1; border-radius: 0.35em;\">\n    60\n    <span style=\"font-size: 0.8em; font-weight: bold; line-height: 1; border-radius: 0.35em; vertical-align: middle; margin-left: 0.5rem\">value_of_measure</span>\n</mark>\n\n<mark class=\"entity\" style=\"background: #ddd; padding: 0.45em 0.6em; margin: 0 0.25em; line-height: 1; border-radius: 0.35em;\">\n    kg\n    <span style=\"font-size: 0.8em; font-weight: bold; line-height: 1; border-radius: 0.35em; vertical-align: middle; margin-left: 0.5rem\">unit_of_measure</span>\n</mark>\n</div></span>"
     },
     "metadata": {}
    }
   ],
   "source": [
    "## THIS IS HOW TO LOAD PRE-BUILT MODELS\n",
    "import spacy\n",
    "from spacy import displacy\n",
    "from spacy.matcher import Matcher\n",
    "import re\n",
    "\n",
    "def clean_text(input_text):\n",
    "    input_text =  input_text.strip()\n",
    "    # \n",
    "    input_text = re.sub(r\"[\\n\\t<>()/]\", \" \", input_text)\n",
    "    input_text = \" \".join(input_text.split())\n",
    "    \n",
    "    return input_text\n",
    "\n",
    "nlp = spacy.load(r\"/home/ananya/Desktop/python/Data_works/OpenCV_OCR/src/NER_experiment/custom_trained_models/with_quantity_measure\")\n",
    "# doc = nlp(\"Fairtrade EZA Ka Ti Bio-coconut milk - 160ml - 2x\")\n",
    "# print(\"Entities\", [(ent.text, ent.label_) for ent in doc.ents])\n",
    "\n",
    "input_text = [clean_text(input_text) for input_text in input_string.splitlines()] \n",
    "\n",
    "\n",
    "for text_ in input_text:\n",
    "    doc = nlp(text_)\n",
    "    for ent in doc.ents:\n",
    "        print(ent.text, ent.start_char, ent.end_char, ent.label_)\n",
    "    displacy.render(nlp(doc.text), style = \"ent\", jupyter=True)\n"
   ]
  },
  {
   "cell_type": "code",
   "execution_count": 11,
   "metadata": {},
   "outputs": [],
   "source": [
    "# nlp_updated = spacy.load(r\"/home/ananya/Desktop/python/Data_works/OpenCV_OCR/src/NER_experiment\")\n",
    "# doc = nlp_updated(\"coffee 200g, 300g, 1kg, 2kg\")\n",
    "# print(\"Entities\", [(ent.text, ent.label_) for ent in doc.ents])\n",
    "from pattern_match import parse_train_data\n",
    "from spacy.matcher import Matcher\n",
    "input_text = \"Fairtrade EZA Ka Ti Bio-coconut milk - 160ml - 2x\"\n",
    "matcher = Matcher(nlp.vocab)\n",
    "train_data = [parse_train_data(d) for d in nlp.pipe(input_text) if len(matcher(d)) >= 1]"
   ]
  },
  {
   "cell_type": "code",
   "execution_count": 26,
   "metadata": {},
   "outputs": [
    {
     "output_type": "execute_result",
     "data": {
      "text/plain": [
       "'T'"
      ]
     },
     "metadata": {},
     "execution_count": 26
    }
   ],
   "source": [
    "# ('vietnam g7 coffee 3in1 mixed coffee domestic use 800g 16g x 50t', {'entities': [(49, 52, 'value_of_measure'), (52, 53, 'unit_of_measure'), (54, 56, 'value_of_measure'), (56, 57, 'unit_of_measure'), (60, 62, 'quantity_integer'), (62, 63, 'item_unit')]})\n",
    "a = 'vietnam g7 coffee 3in1 mixed coffee domestic use 800g 16g x 50T'\n",
    "a[62:63]"
   ]
  },
  {
   "cell_type": "code",
   "execution_count": null,
   "metadata": {},
   "outputs": [],
   "source": []
  }
 ]
}